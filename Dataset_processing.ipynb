{
 "cells": [
  {
   "cell_type": "code",
   "execution_count": 1,
   "metadata": {},
   "outputs": [],
   "source": [
    "import pandas as pd\n",
    "import numpy as np\n",
    "import cv2\n",
    "from random import randint\n",
    "import shutil\n",
    "import os"
   ]
  },
  {
   "cell_type": "code",
   "execution_count": 2,
   "metadata": {},
   "outputs": [
    {
     "data": {
      "text/html": [
       "<div>\n",
       "<style scoped>\n",
       "    .dataframe tbody tr th:only-of-type {\n",
       "        vertical-align: middle;\n",
       "    }\n",
       "\n",
       "    .dataframe tbody tr th {\n",
       "        vertical-align: top;\n",
       "    }\n",
       "\n",
       "    .dataframe thead th {\n",
       "        text-align: right;\n",
       "    }\n",
       "</style>\n",
       "<table border=\"1\" class=\"dataframe\">\n",
       "  <thead>\n",
       "    <tr style=\"text-align: right;\">\n",
       "      <th></th>\n",
       "      <th>img</th>\n",
       "      <th>x1</th>\n",
       "      <th>y1</th>\n",
       "      <th>x2</th>\n",
       "      <th>y2</th>\n",
       "      <th>id</th>\n",
       "    </tr>\n",
       "  </thead>\n",
       "  <tbody>\n",
       "    <tr>\n",
       "      <th>0</th>\n",
       "      <td>00000.ppm</td>\n",
       "      <td>774</td>\n",
       "      <td>411</td>\n",
       "      <td>815</td>\n",
       "      <td>446</td>\n",
       "      <td>11</td>\n",
       "    </tr>\n",
       "    <tr>\n",
       "      <th>1</th>\n",
       "      <td>00001.ppm</td>\n",
       "      <td>983</td>\n",
       "      <td>388</td>\n",
       "      <td>1024</td>\n",
       "      <td>432</td>\n",
       "      <td>40</td>\n",
       "    </tr>\n",
       "    <tr>\n",
       "      <th>2</th>\n",
       "      <td>00001.ppm</td>\n",
       "      <td>386</td>\n",
       "      <td>494</td>\n",
       "      <td>442</td>\n",
       "      <td>552</td>\n",
       "      <td>38</td>\n",
       "    </tr>\n",
       "    <tr>\n",
       "      <th>3</th>\n",
       "      <td>00001.ppm</td>\n",
       "      <td>973</td>\n",
       "      <td>335</td>\n",
       "      <td>1031</td>\n",
       "      <td>390</td>\n",
       "      <td>13</td>\n",
       "    </tr>\n",
       "    <tr>\n",
       "      <th>4</th>\n",
       "      <td>00002.ppm</td>\n",
       "      <td>892</td>\n",
       "      <td>476</td>\n",
       "      <td>1006</td>\n",
       "      <td>592</td>\n",
       "      <td>39</td>\n",
       "    </tr>\n",
       "  </tbody>\n",
       "</table>\n",
       "</div>"
      ],
      "text/plain": [
       "         img   x1   y1    x2   y2  id\n",
       "0  00000.ppm  774  411   815  446  11\n",
       "1  00001.ppm  983  388  1024  432  40\n",
       "2  00001.ppm  386  494   442  552  38\n",
       "3  00001.ppm  973  335  1031  390  13\n",
       "4  00002.ppm  892  476  1006  592  39"
      ]
     },
     "execution_count": 2,
     "metadata": {},
     "output_type": "execute_result"
    }
   ],
   "source": [
    "# load data\n",
    "data = pd.read_csv('gt.txt', sep=\";\", header=None)\n",
    "data.columns = [\"img\", \"x1\", \"y1\", \"x2\", \"y2\", \"id\"]\n",
    "data.head()"
   ]
  },
  {
   "cell_type": "code",
   "execution_count": 3,
   "metadata": {},
   "outputs": [],
   "source": [
    "# define the path of images\n",
    "imgPath = 'yolo/darknet/sign_data/images/'\n",
    "# open an image to get the shape\n",
    "image = cv2.imread(imgPath + '00001.ppm')\n",
    "shape = image.shape[:2]"
   ]
  },
  {
   "cell_type": "markdown",
   "metadata": {},
   "source": [
    "### Convert annotation files into YOLO format"
   ]
  },
  {
   "cell_type": "code",
   "execution_count": 5,
   "metadata": {},
   "outputs": [],
   "source": [
    "def convert_data_to_yolo(df, shape):\n",
    "    \"\"\"\n",
    "    the function convert coordinates into YOLO format. the bounding box of YOLO (x, y, w, h)\n",
    "    Then normalise the coordinates to be between (0 & 1) \n",
    "    by dividing by the real image width & height\n",
    "    \"\"\"\n",
    "    #crete emplty dictionary where keys are image name\n",
    "    yolo_dic = {i.split('.')[0]: [] for i in df['img']}\n",
    "    \n",
    "    for i in range(len(data)):\n",
    "        img = df.iloc[i]['img'].split('.')[0]\n",
    "\n",
    "        x = ((df.iloc[i]['x1'] + df.iloc[i]['x2']) / 2.0) / shape[1]  \n",
    "        y = ((df.iloc[i]['y1'] + df.iloc[i]['y2']) / 2.0 ) / shape[0] \n",
    "        w = (df.iloc[i]['x2'] - df.iloc[i]['x1']) / shape[1]\n",
    "        h = (df.iloc[i]['y2'] - df.iloc[i]['y1']) / shape[0]\n",
    "\n",
    "        yolo_dic[img].append([x, y, w, h])\n",
    "        \n",
    "    return yolo_dic"
   ]
  },
  {
   "cell_type": "code",
   "execution_count": 6,
   "metadata": {},
   "outputs": [],
   "source": [
    "yolo_dic = convert_data_to_yolo(data, shape)"
   ]
  },
  {
   "cell_type": "markdown",
   "metadata": {},
   "source": [
    "#### Check point"
   ]
  },
  {
   "cell_type": "code",
   "execution_count": null,
   "metadata": {},
   "outputs": [],
   "source": [
    "# check point\n",
    "# format is [x, y, w, h]\n",
    "yolo_pts = yolo_dic['00001']\n",
    "\n",
    "image = cv2.imread(imgPath + '00001.ppm')\n",
    "for i in yolo_pts:\n",
    "    startX = int((i[0] - i[2]/2) * shape[1])\n",
    "    startY = int((i[1] - i[3]/2) * shape[0])\n",
    "    endX = int((i[0] + i[2]/2) * shape[1])\n",
    "    endY = int((i[1] + i[3]/2) * shape[0])\n",
    "    \n",
    "    cv2.rectangle(image, (startX, startY), (endX, endY), (0, 150, 100), 5)\n",
    "cv2.imshow('image', image)\n",
    "cv2.waitKey(0)\n",
    "cv2.destroyAllWindows()"
   ]
  },
  {
   "cell_type": "code",
   "execution_count": 8,
   "metadata": {},
   "outputs": [],
   "source": [
    "# Save the annotations for each image in a seperate file in the same folder of the image\n",
    "def save_txt_file(path, data_dic):\n",
    "    for key, value in data_dic.items():\n",
    "        filePath = path + key + '.txt'\n",
    "        \n",
    "        # create an empty list to store sign annotation inside\n",
    "        text = []\n",
    "        # save yolo annotation for each sign and store it in a list \n",
    "        for v in value:\n",
    "            line = \"{} {} {} {} {}\".format(0, v[0], v[1], v[2], v[3])\n",
    "            text.append(line)\n",
    "            \n",
    "            # Write file\n",
    "            with open(filePath, 'w') as file:\n",
    "                for item in text:\n",
    "                    file.writelines(\"%s\\n\" % item)"
   ]
  },
  {
   "cell_type": "code",
   "execution_count": 9,
   "metadata": {},
   "outputs": [],
   "source": [
    "save_txt_file(imgPath, yolo_dic)"
   ]
  },
  {
   "cell_type": "markdown",
   "metadata": {},
   "source": [
    "#### Check point"
   ]
  },
  {
   "cell_type": "code",
   "execution_count": null,
   "metadata": {},
   "outputs": [],
   "source": [
    "# check that all images have 2 txt files\n",
    "\n",
    "import collections\n",
    "\n",
    "ck_files = []\n",
    "for file in os.listdir(imgPath):\n",
    "    ck_files.append(file.split('.')[0])\n",
    "    \n",
    "counts = collections.Counter(ck_files)\n",
    "#counts.most_common()"
   ]
  },
  {
   "cell_type": "markdown",
   "metadata": {},
   "source": [
    "### Split images"
   ]
  },
  {
   "cell_type": "code",
   "execution_count": 86,
   "metadata": {},
   "outputs": [],
   "source": [
    "# split data into train, test dataset in ratio 90:10\n",
    "# get image names    \n",
    "images = list(yolo_dic.keys())\n",
    "\n",
    "# no of test images\n",
    "test_size = int(len(yolo_dic) * 10 /100)\n",
    "\n",
    "# create an empty lists to store test & train images in\n",
    "test_images = []\n",
    "train_images = []\n",
    "\n",
    "# create an empty list to store index\n",
    "index = []\n",
    "n = 0\n",
    "while n < test_size:\n",
    "    # generate random integer number\n",
    "    randN = randint(0, len(yolo_dic))\n",
    "    # check that the no is not chosen before\n",
    "    if randN not in index:\n",
    "        index.append(randN)\n",
    "        n += 1\n",
    "\n",
    "# add selected indices to test images list\n",
    "for i in index:\n",
    "    test_images.append(images[i]+'.ppm')\n",
    "\n",
    "# add the remaining images to train images list\n",
    "for i in range(len(yolo_dic)):\n",
    "    if i not in index:\n",
    "        train_images.append(images[i]+'.ppm')"
   ]
  },
  {
   "cell_type": "code",
   "execution_count": 87,
   "metadata": {},
   "outputs": [
    {
     "name": "stdout",
     "output_type": "stream",
     "text": [
      "No of train images:  667\n",
      "No of test images 74\n",
      "Total images:  741\n"
     ]
    }
   ],
   "source": [
    "print('No of train images: ', len(train_images))\n",
    "print('No of test images', len(test_images))\n",
    "print('Total images: ', len(yolo_dic))"
   ]
  },
  {
   "cell_type": "markdown",
   "metadata": {},
   "source": [
    "### Save text files for train and test datase"
   ]
  },
  {
   "cell_type": "code",
   "execution_count": 89,
   "metadata": {},
   "outputs": [],
   "source": [
    "# YOLO needs the path of each image in the both dataset\n",
    "\n",
    "# save the path of the training images, and of the \n",
    "# test images into relevant list\n",
    "path = 'sign_data/images/'\n",
    "train_path = [path + img for img in train_images]\n",
    "test_path = [path + img for img in test_images]\n",
    "\n",
    "#Create training.txt file\n",
    "file = open(\"yolo/darknet/sign_data/train.txt\", \"w\") \n",
    "file.write(\"\\n\".join(train_path)) \n",
    "file.close() \n",
    "\n",
    "#Create test.txt file\n",
    "file = open(\"yolo/darknet/sign_data/test.txt\", \"w\") \n",
    "file.write(\"\\n\".join(test_path)) \n",
    "file.close() "
   ]
  },
  {
   "cell_type": "markdown",
   "metadata": {},
   "source": [
    "### copy annotation files into labels directory"
   ]
  },
  {
   "cell_type": "code",
   "execution_count": 85,
   "metadata": {},
   "outputs": [],
   "source": [
    "dest = 'yolo/darknet/sign_data/labels/'\n",
    "for file in os.listdir(imgPath):\n",
    "    if file.endswith('.txt'):\n",
    "        shutil.copyfile(imgPath + file, dest+file)"
   ]
  },
  {
   "cell_type": "markdown",
   "metadata": {},
   "source": [
    "### Creating object labels & data file"
   ]
  },
  {
   "cell_type": "code",
   "execution_count": 91,
   "metadata": {},
   "outputs": [],
   "source": [
    "#Create sign.names file for label names\n",
    "file = open(\"yolo/darknet/sign_data/sign.names\", \"w\") \n",
    "file.write(\"sign\") \n",
    "file.close() "
   ]
  },
  {
   "cell_type": "code",
   "execution_count": 101,
   "metadata": {},
   "outputs": [],
   "source": [
    "# Create sign.data file, it will contain \n",
    "#info about classes, training & test datases paths\n",
    "\n",
    "txt = \"\"\"classes = 1\n",
    "train = sign_data/train.txt\n",
    "valid = sign_data/test.txt\n",
    "names = sign_data/sign.names\n",
    "backup = backup\n",
    "\"\"\"\n",
    "#Create sign.data file for label names\n",
    "file = open(\"yolo/darknet/sign_data/sign.data\", \"w\")\n",
    "for item in txt.split('\\n'):\n",
    "    file.writelines(\"%s\\n\" % item)\n",
    "file.close() "
   ]
  }
 ],
 "metadata": {
  "kernelspec": {
   "display_name": "CV",
   "language": "python",
   "name": "cv"
  },
  "language_info": {
   "codemirror_mode": {
    "name": "ipython",
    "version": 3
   },
   "file_extension": ".py",
   "mimetype": "text/x-python",
   "name": "python",
   "nbconvert_exporter": "python",
   "pygments_lexer": "ipython3",
   "version": "3.7.8"
  }
 },
 "nbformat": 4,
 "nbformat_minor": 4
}
