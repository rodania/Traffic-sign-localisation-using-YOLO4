{
 "cells": [
  {
   "cell_type": "code",
   "execution_count": 1,
   "metadata": {},
   "outputs": [],
   "source": [
    "import numpy as np\n",
    "import cv2"
   ]
  },
  {
   "cell_type": "code",
   "execution_count": 2,
   "metadata": {},
   "outputs": [],
   "source": [
    "# load trained model\n",
    "yolo_model = cv2.dnn.readNetFromDarknet('trained_model/cov_yolov4.cfg','trained_model/cov_yolov4_2000.weights')\n",
    "\n",
    "# Get all layers from the yolo network\n",
    "# Loop and find the last layer (output layer) of the yolo network \n",
    "yolo_layers = yolo_model.getLayerNames()\n",
    "yolo_output_layer = [yolo_layers[layer[0] - 1] for layer in yolo_model.getUnconnectedOutLayers()]"
   ]
  },
  {
   "cell_type": "code",
   "execution_count": 3,
   "metadata": {},
   "outputs": [],
   "source": [
    "testImges = open('yolo/darknet/sign_data/test.txt', 'r')\n",
    "testImges = [i for i in testImges.read().split('\\n')]"
   ]
  },
  {
   "cell_type": "code",
   "execution_count": 4,
   "metadata": {},
   "outputs": [],
   "source": [
    "class_labels = ['traffic sign']\n",
    "class_colors = np.int32([0, 255, 0])\n",
    "class_colors = np.tile(class_colors,(len(class_labels), 1))"
   ]
  },
  {
   "cell_type": "code",
   "execution_count": 5,
   "metadata": {},
   "outputs": [],
   "source": [
    "def predict_sign(path):\n",
    "    \n",
    "    # load test image \n",
    "    img =cv2.imread(path)\n",
    "\n",
    "    # construct a blob for img\n",
    "    imgBlob = cv2.dnn.blobFromImage(img, 0.003922, (416, 416), swapRB=True, crop=False)\n",
    "\n",
    "    # get image shape\n",
    "    height = img.shape[0]\n",
    "    width = img.shape[1]\n",
    "\n",
    "    # input preprocessed blob into the model\n",
    "    yolo_model.setInput(imgBlob)\n",
    "    # get prediction\n",
    "    obj_detection_layers = yolo_model.forward(yolo_output_layer)\n",
    "    \n",
    "    # create empty lists to save parameters\n",
    "    class_ids_list = []\n",
    "    boxes_list = []\n",
    "    confidences_list = []\n",
    "\n",
    "    # loop over each of the layer outputs\n",
    "    for object_detection_layer in obj_detection_layers:\n",
    "        # loop over the detections\n",
    "        for object_detection in object_detection_layer:\n",
    "\n",
    "            # obj_detections[1 to 4] => will have the two center points, box width and box height\n",
    "            # obj_detections[5] => will have scores for all objects within bounding box\n",
    "            all_scores = object_detection[5:]\n",
    "            predicted_class_id = np.argmax(all_scores)\n",
    "            prediction_confidence = all_scores[predicted_class_id]\n",
    "\n",
    "            # take only predictions with confidence more than 60%\n",
    "            if prediction_confidence > 0.60:\n",
    "                #get the predicted label\n",
    "                predicted_class_label = class_labels[predicted_class_id]\n",
    "                #obtain the bounding box co-oridnates for actual image from resized image size\n",
    "                bounding_box = object_detection[0:4] * np.array([width, height, width, height])\n",
    "                (box_center_x_pt, box_center_y_pt, box_width, box_height) = bounding_box.astype(\"int\")\n",
    "                start_x_pt = int(box_center_x_pt - (box_width / 2))\n",
    "                start_y_pt = int(box_center_y_pt - (box_height / 2))\n",
    "\n",
    "                # save class id, start x, y, width & height, confidences in a list\n",
    "                # make sure to pass confidence as float and width and height as integers\n",
    "                class_ids_list.append(predicted_class_id)\n",
    "                confidences_list.append(float(prediction_confidence))\n",
    "                boxes_list.append([start_x_pt, start_y_pt, int(box_width), int(box_height)])\n",
    "                \n",
    "    # apply non-maxima suppression\n",
    "    max_value_ids = cv2.dnn.NMSBoxes(boxes_list, confidences_list, 0.5, 0.4)\n",
    "    for max_valueid in max_value_ids:\n",
    "        max_class_id = max_valueid[0]\n",
    "        box = boxes_list[max_class_id]\n",
    "        start_x_pt = box[0]\n",
    "        start_y_pt = box[1]\n",
    "        box_width = box[2]\n",
    "        box_height = box[3]\n",
    "        end_x_pt = start_x_pt + box_width\n",
    "        end_y_pt = start_y_pt + box_height\n",
    "\n",
    "        #get the predicted class id and label\n",
    "        predicted_class_id = class_ids_list[max_class_id]\n",
    "        predicted_class_label = class_labels[predicted_class_id]\n",
    "        prediction_confidence = confidences_list[max_class_id]\n",
    "\n",
    "        #get a random mask color from the numpy array of colors\n",
    "        box_color = class_colors[predicted_class_id]\n",
    "\n",
    "        #convert the color numpy array as a list and apply to text and box\n",
    "        box_color = [int(c) for c in box_color]\n",
    "\n",
    "        # print the prediction in console\n",
    "        predicted_class_label = \"{}: {:.2f}%\".format(predicted_class_label, prediction_confidence * 100)\n",
    "        print(\"predicted object {}\".format(predicted_class_label))\n",
    "\n",
    "        # draw rectangle and text in the image\n",
    "        cv2.rectangle(img, (start_x_pt, start_y_pt), (end_x_pt, end_y_pt), box_color, 1)\n",
    "        cv2.putText(img, predicted_class_label, (start_x_pt, start_y_pt-5), cv2.FONT_HERSHEY_SIMPLEX, 0.5, box_color, 1)\n",
    "\n",
    "    cv2.imshow(\"Detection Output\", img)\n",
    "    cv2.waitKey(0)\n",
    "    cv2.destroyAllWindows()"
   ]
  },
  {
   "cell_type": "code",
   "execution_count": null,
   "metadata": {},
   "outputs": [],
   "source": [
    "basePath ='yolo/darknet/'\n",
    "for img in testImges[:4]:\n",
    "    predict_sign(basePath + img)"
   ]
  },
  {
   "cell_type": "code",
   "execution_count": 21,
   "metadata": {},
   "outputs": [
    {
     "name": "stdout",
     "output_type": "stream",
     "text": [
      "predicted object traffic sign: 97.39%\n",
      "predicted object traffic sign: 92.88%\n"
     ]
    }
   ],
   "source": [
    "predict_sign(basePath + testImges[15])"
   ]
  },
  {
   "cell_type": "code",
   "execution_count": null,
   "metadata": {},
   "outputs": [],
   "source": []
  }
 ],
 "metadata": {
  "kernelspec": {
   "display_name": "CV",
   "language": "python",
   "name": "cv"
  },
  "language_info": {
   "codemirror_mode": {
    "name": "ipython",
    "version": 3
   },
   "file_extension": ".py",
   "mimetype": "text/x-python",
   "name": "python",
   "nbconvert_exporter": "python",
   "pygments_lexer": "ipython3",
   "version": "3.7.8"
  }
 },
 "nbformat": 4,
 "nbformat_minor": 4
}
